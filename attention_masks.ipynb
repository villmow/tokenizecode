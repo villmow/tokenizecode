{
 "cells": [
  {
   "cell_type": "code",
   "execution_count": 86,
   "id": "ac5d243c",
   "metadata": {},
   "outputs": [],
   "source": [
    "import multicoder\n",
    "\n",
    "from tokenizecode import CodeParser, CodeTokenizer\n",
    "\n",
    "import json\n",
    "import torch\n",
    "import torch.nn.functional as F"
   ]
  },
  {
   "cell_type": "code",
   "execution_count": 87,
   "id": "2641ec25",
   "metadata": {},
   "outputs": [],
   "source": [
    "py_code = \"\"\"def foo():\n",
    "    print(\"hello world!\")\n",
    "    for i in [1,2,3]:\n",
    "        if (i % 2 == 0):\n",
    "            print(i)\n",
    "        else:\n",
    "            print(i+1)\"\"\""
   ]
  },
  {
   "cell_type": "code",
   "execution_count": 88,
   "id": "0d361b27",
   "metadata": {},
   "outputs": [],
   "source": [
    "java_code = \"\"\"class HelloWorld {\n",
    "    public static void main(String[] args) {\n",
    "        System.out.println(\"Hello, World!\"); \n",
    "    }\n",
    "}\"\"\""
   ]
  },
  {
   "cell_type": "markdown",
   "id": "5033ef08",
   "metadata": {},
   "source": [
    "### Example tree"
   ]
  },
  {
   "cell_type": "code",
   "execution_count": 89,
   "id": "90a5a258",
   "metadata": {
    "scrolled": true
   },
   "outputs": [
    {
     "name": "stdout",
     "output_type": "stream",
     "text": [
      "TensorTree():\n",
      " 0. [module]\n",
      "╰── 1. [function_definition]\n",
      "    ├── 2. def\n",
      "    ├── 3. ·\n",
      "    ├── 4. [identifier]\n",
      "    │   ╰── 5. foo\n",
      "    ├── 6. [parameters]\n",
      "    │   ├── 7. (\n",
      "    │   ╰── 8. )\n",
      "    ├── 9. :\n",
      "    ├── 10. ⏎····\n",
      "    ╰── 11. [block]\n",
      "        ├── 12. [expression_statement]\n",
      "        │   ╰── 13. [call]\n",
      "        │       ├── 14. [identifier]\n",
      "        │       │   ╰── 15. print\n",
      "        │       ╰── 16. [argument_list]\n",
      "        │           ├── 17. (\n",
      "        │           ├── 18. [string]\n",
      "        │           │   ├── 19. \"\n",
      "        │           │   ├── 20. hello·world!\n",
      "        │           │   ╰── 21. \"\n",
      "        │           ╰── 22. )\n",
      "        ├── 23. ⏎····\n",
      "        ╰── 24. [for_statement]\n",
      "            ├── 25. for\n",
      "            ├── 26. ·\n",
      "            ├── 27. [identifier]\n",
      "            │   ╰── 28. i\n",
      "            ├── 29. ·\n",
      "            ├── 30. in\n",
      "            ├── 31. ·\n",
      "            ├── 32. [list]\n",
      "            │   ├── 33. [\n",
      "            │   ├── 34. [integer]\n",
      "            │   │   ╰── 35. 1\n",
      "            │   ├── 36. ,\n",
      "            │   ├── 37. [integer]\n",
      "            │   │   ╰── 38. 2\n",
      "            │   ├── 39. ,\n",
      "            │   ├── 40. [integer]\n",
      "            │   │   ╰── 41. 3\n",
      "            │   ╰── 42. ]\n",
      "            ├── 43. :\n",
      "            ├── 44. ⏎········\n",
      "            ╰── 45. [block]\n",
      "                ╰── 46. [if_statement]\n",
      "                    ├── 47. if\n",
      "                    ├── 48. ·\n",
      "                    ├── 49. [parenthesized_expression]\n",
      "                    │   ├── 50. (\n",
      "                    │   ├── 51. [comparison_operator]\n",
      "                    │   │   ├── 52. [binary_operator]\n",
      "                    │   │   │   ├── 53. [identifier]\n",
      "                    │   │   │   │   ╰── 54. i\n",
      "                    │   │   │   ├── 55. ·\n",
      "                    │   │   │   ├── 56. %\n",
      "                    │   │   │   ├── 57. ·\n",
      "                    │   │   │   ╰── 58. [integer]\n",
      "                    │   │   │       ╰── 59. 2\n",
      "                    │   │   ├── 60. ·\n",
      "                    │   │   ├── 61. ==\n",
      "                    │   │   ├── 62. ·\n",
      "                    │   │   ╰── 63. [integer]\n",
      "                    │   │       ╰── 64. 0\n",
      "                    │   ╰── 65. )\n",
      "                    ├── 66. :\n",
      "                    ├── 67. ⏎············\n",
      "                    ├── 68. [block]\n",
      "                    │   ╰── 69. [expression_statement]\n",
      "                    │       ╰── 70. [call]\n",
      "                    │           ├── 71. [identifier]\n",
      "                    │           │   ╰── 72. print\n",
      "                    │           ╰── 73. [argument_list]\n",
      "                    │               ├── 74. (\n",
      "                    │               ├── 75. [identifier]\n",
      "                    │               │   ╰── 76. i\n",
      "                    │               ╰── 77. )\n",
      "                    ├── 78. ⏎········\n",
      "                    ╰── 79. [else_clause]\n",
      "                        ├── 80. else\n",
      "                        ├── 81. :\n",
      "                        ├── 82. ⏎············\n",
      "                        ╰── 83. [block]\n",
      "                            ╰── 84. [expression_statement]\n",
      "                                ╰── 85. [call]\n",
      "                                    ├── 86. [identifier]\n",
      "                                    │   ╰── 87. print\n",
      "                                    ╰── 88. [argument_list]\n",
      "                                        ├── 89. (\n",
      "                                        ├── 90. [binary_operator]\n",
      "                                        │   ├── 91. [identifier]\n",
      "                                        │   │   ╰── 92. i\n",
      "                                        │   ├── 93. +\n",
      "                                        │   ╰── 94. [integer]\n",
      "                                        │       ╰── 95. 1\n",
      "                                        ╰── 96. )\n"
     ]
    }
   ],
   "source": [
    "parser = CodeParser()\n",
    "out = parser.parse(py_code, \"python\")\n",
    "out.tree.pprint()"
   ]
  },
  {
   "cell_type": "code",
   "execution_count": 90,
   "id": "4fc35e14",
   "metadata": {},
   "outputs": [],
   "source": [
    "tree = out.tree"
   ]
  },
  {
   "cell_type": "markdown",
   "id": "d5ec0341",
   "metadata": {},
   "source": [
    "## Root candidates\n",
    "A root candidate is a non-terminal node which subtree can be removed from the tree and can be considered as a self-contained unit. Leaves in this subtree should attend on each other leaves as they are considered to serve the same semantic purpose in the tree."
   ]
  },
  {
   "cell_type": "markdown",
   "id": "1f270145",
   "metadata": {},
   "source": [
    "### 1. Considering each non-terminal as a root candidate\n",
    "Disadvantage: Terminal children (all leaves) of each nonterminal attend only to siblings and underlying leaves, which create a pretty sparse matrix for deeply nested trees."
   ]
  },
  {
   "cell_type": "code",
   "execution_count": 172,
   "id": "954e9a17",
   "metadata": {},
   "outputs": [],
   "source": [
    "mask = torch.zeros(len(out.tree), len(out.tree))\n",
    "\n",
    "def create_mask(node_idx):\n",
    "    if not tree.is_leaf(node_idx):\n",
    "\n",
    "        # attend to all leaf children\n",
    "        leaves_mask = tree[node_idx].leaves_mask()\n",
    "        # mask[node_idx] = F.pad(leaves_mask, (len(tree)-len(leaves_mask), 0))\n",
    "        # [0 0 0.......]  [..........]  [0 0 0 .......]\n",
    "        # len(node_idx)    leaves_mask       rest\n",
    "        mask[node_idx] = torch.cat((torch.zeros(node_idx), leaves_mask, torch.zeros(len(tree) - len(leaves_mask) - node_idx)))        \n",
    "        \n",
    "        # attend to theirself\n",
    "        mask[node_idx][node_idx] = 1\n",
    "\n",
    "        # fill mask for chilren\n",
    "        for child_idx in tree.iter_children(node_idx):\n",
    "            create_mask(child_idx)\n",
    "    \n",
    "    elif tree.is_leaf(node_idx):\n",
    "        \n",
    "        # copy parent node mask\n",
    "        mask[node_idx] = mask[tree.get_parent(node_idx)]\n",
    "        \n",
    "        # attend to theirself\n",
    "        mask[node_idx][node_idx] = 1"
   ]
  },
  {
   "cell_type": "code",
   "execution_count": 173,
   "id": "4303a01f",
   "metadata": {},
   "outputs": [],
   "source": [
    "create_mask(0)"
   ]
  },
  {
   "cell_type": "code",
   "execution_count": 174,
   "id": "3c66c3bb",
   "metadata": {},
   "outputs": [
    {
     "data": {
      "text/plain": [
       "tensor([[1., 0., 1.,  ..., 0., 1., 1.],\n",
       "        [0., 1., 1.,  ..., 0., 1., 1.],\n",
       "        [0., 1., 1.,  ..., 0., 1., 1.],\n",
       "        ...,\n",
       "        [0., 0., 0.,  ..., 1., 1., 0.],\n",
       "        [0., 0., 0.,  ..., 1., 1., 0.],\n",
       "        [0., 0., 0.,  ..., 0., 1., 1.]])"
      ]
     },
     "execution_count": 174,
     "metadata": {},
     "output_type": "execute_result"
    }
   ],
   "source": [
    "mask"
   ]
  },
  {
   "cell_type": "code",
   "execution_count": 154,
   "id": "64f2f117",
   "metadata": {},
   "outputs": [
    {
     "data": {
      "text/plain": [
       "torch.Size([97, 97])"
      ]
     },
     "execution_count": 154,
     "metadata": {},
     "output_type": "execute_result"
    }
   ],
   "source": [
    "mask.shape"
   ]
  },
  {
   "cell_type": "markdown",
   "id": "ed539461",
   "metadata": {},
   "source": [
    "### 2. Consider only special non-terminals as root candidates\n",
    "For each terminal, the mask of the next root candidate ancestor node is copied.\n",
    "Disadvantage: For deeply nested root candidate nodes (e.g. if-for-if-if...), the mask will be sparse like in (1) as the children only attend to the nodes that their parents attend to. This could maybe be resolved by setting a fixed MAX_DEPTH (e.g. if the child is nested more than depth=MAX_DEPTH, take root candidate ancestor on level MAX_DEPTH as nearest parent)."
   ]
  },
  {
   "cell_type": "code",
   "execution_count": 95,
   "id": "d1f8dc8d",
   "metadata": {},
   "outputs": [],
   "source": [
    "with open(\"/Users/savinadiez/masterthesis/git/code-buddy/multicoder/tokenizer/nonterminals.json\", \"rt\") as f:\n",
    "    nonterminals = json.load(f)"
   ]
  },
  {
   "cell_type": "code",
   "execution_count": 96,
   "id": "3bd88c45",
   "metadata": {},
   "outputs": [],
   "source": [
    "nonterminal_names = list(nonterminals.keys())"
   ]
  },
  {
   "cell_type": "code",
   "execution_count": 98,
   "id": "bf14047a",
   "metadata": {},
   "outputs": [],
   "source": [
    "# Kinder dieser Knoten sollen nur auf Geschwister + ihre Blätter attenden, da sie abgeschlossene Einheiten bilden:\n",
    "# *block*, if_statement, *method*, *function*, call, for_statement, do_block, switch_statement, while_statement\n",
    "\n",
    "# Kinder dieser Knoten sollen auf das attenden, auf das der nächsthöhere root candidate attendet:\n",
    "# identifier, tag_name, string, ...\n",
    "# diese Nonterminals selbst attenden aber trotzdem nur auf sich und unterliegende?"
   ]
  },
  {
   "cell_type": "code",
   "execution_count": 180,
   "id": "3cfb7beb",
   "metadata": {},
   "outputs": [],
   "source": [
    "mask = torch.zeros(len(tree), len(tree))\n",
    "root_candidates = ['[if_statement]', '[for_statement]']\n",
    "\n",
    "def create_mask_considering_root_candidates(node_idx):\n",
    "\n",
    "    # Nonterminals\n",
    "    if not tree.is_leaf(node_idx):\n",
    "\n",
    "        # attend to all leaf children\n",
    "        leaves_mask = tree[node_idx].leaves_mask()\n",
    "        \"\"\"Nonterminal masks look like this:\n",
    "                [0 0 0.......] [..........] [0 0 0 .......]\n",
    "                len(node_idx)   leaves_mask      rest\n",
    "        \"\"\"\n",
    "        mask[node_idx] = torch.cat((torch.zeros(node_idx), leaves_mask, torch.zeros(len(tree) - len(leaves_mask) - node_idx)))\n",
    "        \n",
    "        # attend to theirself\n",
    "        mask[node_idx][node_idx] = 1\n",
    "\n",
    "        # fill mask for chilren\n",
    "        for child_idx in tree.iter_children(node_idx):\n",
    "            create_mask_considering_root_candidates(child_idx)\n",
    "    \n",
    "    # Terminals (leaves)\n",
    "    elif tree.is_leaf(node_idx):\n",
    "       \n",
    "        # iterate ancestors until root candidate is found\n",
    "        for ancestor_idx in tree.iter_ancestors(node_idx):\n",
    "\n",
    "            if tree.get_node_data(ancestor_idx) in root_candidates:\n",
    "               \n",
    "                # copy next highest root candidate's node mask\n",
    "                mask[node_idx] = mask[ancestor_idx]\n",
    "                \n",
    "                # attend to theirself\n",
    "                mask[node_idx][node_idx] = 1\n",
    "                return\n",
    "            \n",
    "        # if no relevant ancestor found (should not be possible), copy parent node mask (maybe better: root mask?)\n",
    "        mask[node_idx] = mask[tree.get_parent(node_idx)]"
   ]
  },
  {
   "cell_type": "code",
   "execution_count": 181,
   "id": "e9bc5592",
   "metadata": {},
   "outputs": [],
   "source": [
    "create_mask_considering_root_candidates(0)"
   ]
  },
  {
   "cell_type": "code",
   "execution_count": 184,
   "id": "45b1f8e2",
   "metadata": {
    "scrolled": false
   },
   "outputs": [
    {
     "data": {
      "text/plain": [
       "tensor([0., 0., 0., 0., 0., 0., 0., 0., 0., 0., 0., 0., 0., 0., 0., 0., 0., 0.,\n",
       "        0., 0., 0., 0., 0., 0., 0., 0., 0., 0., 0., 0., 0., 0., 0., 0., 0., 0.,\n",
       "        0., 0., 0., 0., 0., 0., 0., 0., 0., 0., 1., 1., 1., 0., 1., 0., 0., 0.,\n",
       "        1., 1., 1., 1., 0., 1., 1., 1., 1., 0., 1., 1., 1., 1., 0., 0., 0., 0.,\n",
       "        1., 0., 1., 0., 1., 1., 1., 0., 1., 1., 1., 0., 0., 0., 0., 1., 0., 1.,\n",
       "        0., 0., 1., 1., 0., 1., 1.])"
      ]
     },
     "execution_count": 184,
     "metadata": {},
     "output_type": "execute_result"
    }
   ],
   "source": [
    "mask[87]"
   ]
  },
  {
   "cell_type": "code",
   "execution_count": null,
   "id": "1e8b8dca",
   "metadata": {},
   "outputs": [],
   "source": []
  }
 ],
 "metadata": {
  "kernelspec": {
   "display_name": "Python 3 (ipykernel)",
   "language": "python",
   "name": "python3"
  },
  "language_info": {
   "codemirror_mode": {
    "name": "ipython",
    "version": 3
   },
   "file_extension": ".py",
   "mimetype": "text/x-python",
   "name": "python",
   "nbconvert_exporter": "python",
   "pygments_lexer": "ipython3",
   "version": "3.9.10"
  }
 },
 "nbformat": 4,
 "nbformat_minor": 5
}
